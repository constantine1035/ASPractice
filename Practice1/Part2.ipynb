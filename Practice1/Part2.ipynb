{
 "cells": [
  {
   "cell_type": "markdown",
   "metadata": {
    "id": "xpO92YkQ-9SB"
   },
   "source": "# Теория информации"
  },
  {
   "cell_type": "code",
   "metadata": {
    "ExecuteTime": {
     "end_time": "2024-10-22T17:39:06.416796Z",
     "start_time": "2024-10-22T17:39:06.409054Z"
    }
   },
   "source": [
    "#all imports here\n",
    "import pickle as pkl\n",
    "\n",
    "from collections import OrderedDict\n",
    "import heapq\n",
    "\n",
    "import numpy as np\n",
    "import matplotlib.pyplot as plt\n",
    "%matplotlib inline\n",
    "\n",
    "from collections import Counter\n",
    "from math import log2\n",
    "\n",
    "#... add your own if necessary"
   ],
   "outputs": [],
   "execution_count": 48
  },
  {
   "cell_type": "markdown",
   "metadata": {},
   "source": [
    "Энтропию можно использовать не только для описания хаотичности, беспорядочности и уровня неопределённости, но и для того, чтобы исследовать зависимость между случайными величинами, используя теорию информации. Начнём с базовых вещей и постепенно дойдём до ультрапопулярной эвристики выбора важных признаков для машинного обучения -- взаимной информации."
   ]
  },
  {
   "cell_type": "markdown",
   "metadata": {
    "id": "g4hbID4f_ZW7"
   },
   "source": [
    "## Поисследуем энтропию\n",
    "\n",
    "Будем предполагать, что нам даны две случайных величины $X,Y$, будем предполагать, что они дискретные, выкладок этот факт не изменит."
   ]
  },
  {
   "cell_type": "markdown",
   "metadata": {
    "id": "jU9QZbW0_gJi"
   },
   "source": [
    "### Независимость?\n",
    "\n",
    "Покажем, что если две случайных величины $X,Y$ независимы, то $H(X,Y)=H(X)+H(Y)$.\n"
   ]
  },
  {
   "cell_type": "markdown",
   "metadata": {},
   "source": [
    "From this moment we will assume $X, Y$ are discrete, so\n",
    "\n",
    "$$\n",
    "H(X) = - \\sum_{x} p_X(x) \\log p_X(x)\n",
    "$$\n",
    "\n",
    "$$\n",
    "H(X, Y) = - \\sum_{x,y} p_{X,Y}(x, y) \\log p_{X,Y}(x, y) =\n",
    " - \\sum_{x,y} p_X(x)p_Y(y) \\log p_X(x)p_Y(y) = - \\sum_{x,y} p_X(x)p_Y(y) \\left(\\log p_X(x) + \\log p_Y(y)\\right) =\n",
    "$$\n",
    "$$\n",
    "= - \\sum_{x,y} p_X(x)p_Y(y) \\log p_X(x) - \\sum_{x,y} p_X(x)p_Y(y) \\log p_Y(y) =\n",
    " - \\sum_x p_X(x) \\log p_X(x) \\sum_yp_Y(y) - \\sum_y p_Y(y) \\log p_Y(y) \\sum_xp_X(x)=\n",
    "$$\n",
    "$$\n",
    "= - \\sum_x p_X(x) \\log p_X(x) - \\sum_y p_Y(y) \\log p_Y(y) = H(X)+H(Y)\n",
    "$$\n"
   ]
  },
  {
   "cell_type": "markdown",
   "metadata": {},
   "source": [
    "### Зависимость?"
   ]
  },
  {
   "cell_type": "markdown",
   "metadata": {},
   "source": [
    "Покажем, что в общем случае\n",
    "\n",
    "$$\n",
    "H(X,Y) = H(X) + H(Y \\vert X)\n",
    "$$\n",
    "и вычислим, чему будет равен остаток $H(Y \\vert X)$. Он носит название *условной энтропии*, не путайте с энтропией условного распределения."
   ]
  },
  {
   "cell_type": "markdown",
   "metadata": {},
   "source": [
    "$$\n",
    "H(X, Y) = - \\sum_{x,y} p_{X,Y}(x, y) \\log p_{X,Y}(x, y) = \n",
    " - \\sum_{x,y} p_X(x)p_{Y|X}(y|x) \\log p_X(x)p_{Y|X}(y|x) = - \\sum_{x,y} p_X(x)p_{Y|X}(y|x) \\left(\\log p_X(x) + \\log p_{Y|X}(y|x)\\right) =\n",
    "$$\n",
    "$$\n",
    "= - \\sum_{x,y} p_X(x)p_{Y|X}(y|x) \\log p_X(x)  - \\sum_{x,y} p_X(x)p_{Y|X}(y|x)  \\log p_{Y|X}(y|x) =\n",
    " - \\sum_{x} p_X(x) \\log p_X(x) \\sum_{y}p_{Y|X}(y|x)  - \\sum_{x} p_X(x) \\sum_{y}p_{Y|X}(y|x)  \\log p_{Y|X}(y|x) = H(X)+H(X|Y)\n",
    "$$"
   ]
  },
  {
   "cell_type": "markdown",
   "metadata": {},
   "source": "We can interpret $H(Y)$ as the level of uncertainty in $Y$ or the number of bits needed to encode it. So, if I understood it right, conditional entropy $ H(Y \\mid X) $ measures uncertainty in $ Y $, if $ X $ is known. In coding theory, if $ X $ reduces uncertainty in $ Y $, fewer bits are required for encoding $Y$ compared to encoding it independently. E.g. if $H(Y|X) = 0$ that means $Y$ is determined, and we don't need extra information to encode it if we already know $X$.  "
  },
  {
   "cell_type": "markdown",
   "metadata": {
    "id": "ZDNXyjtgAdnv"
   },
   "source": [
    "## Взаимная информация\n",
    "\n",
    "Можно рассмотреть разницу\n",
    "\n",
    "$$\n",
    "I(X,Y) = H(X) - H(X \\vert Y),\n",
    "$$\n",
    "\n",
    "которая отражает в некотором смысле (вы наверняка об этом думали в окошке выше) уровень использования информации о значении $Y$ при кодировании $X$ (если мы о кодировании). Эта величина носит название *взаимной информации* и является ещё одним хорошим способом исследования зависимости между случайными величинами. Библиотека `sklearn` позволяет оценивать её по данным и тем самым выделять самые важные признаки для моделей машинного обучения."
   ]
  },
  {
   "cell_type": "markdown",
   "metadata": {
    "id": "9aMyr0QdAdnw"
   },
   "source": [
    "### Симметричность\n",
    "\n",
    "Докажем, что $I(X,Y)=I(Y,X)$."
   ]
  },
  {
   "cell_type": "markdown",
   "metadata": {},
   "source": [
    "$$\n",
    "I(X,Y) = H(X)-H(X|Y) = H(X)+H(Y)-H(X,Y) = H(X)+H(Y)-H(Y,X) = H(X)-H(Y|X) = I(Y,X)\n",
    "$$"
   ]
  },
  {
   "cell_type": "markdown",
   "metadata": {},
   "source": [
    "### Связь с KL\n",
    "\n",
    "Докажем, что $I(X,Y)= D_{KL}( p_{X,Y} \\vert p_{X}p_{Y})$. Слева совместное распределение $X,Y$, справа -- произведение вероятностей(или плотностей) $X,Y$. "
   ]
  },
  {
   "cell_type": "markdown",
   "metadata": {
    "id": "Jd6AICLiAdnx"
   },
   "source": [
    "$$\n",
    "D_{\\text{KL}}( p_{X,Y} | p_X p_Y ) = \\sum_{x,y} p_{X,Y}(x,y) \\log \\frac{p_{X,Y}(x,y)}{p_X(x)p_Y(y)} = \n",
    "\\sum_{x,y} p_{X,Y}(x,y) \\left( \\log p_{X,Y}(x,y) - \\log(p_X(x) p_Y(y)) \\right) =\n",
    "$$\n",
    "$$\n",
    "= \\sum_{x,y} p_{X,Y}(x,y) \\log p_{X,Y}(x,y) - \\sum_{x,y} p_{X,Y}(x,y) \\log(p_X(x)p_Y(y)) = \n",
    " \\sum_{x,y} p_{X,Y}(x,y) \\log p_{X,Y}(x,y) - \\sum_{x,y} p_{X,Y}(x,y) \\log(p_X(x))  - \\sum_{x,y} p_{X,Y}(x,y) \\log(p_Y(y)) = \n",
    "$$\n",
    "$$\n",
    "= -H(X,Y) - \\sum_{x}\\log(p_X(x))\\sum_y p_{X,Y}(x,y)   - \\sum_{y} \\log(p_Y(y))\\sum_{x} p_{X,Y}(x,y) =\n",
    " -H(X,Y) - \\sum_{x}\\log(p_X(x))p_{X}(x) - \\sum_{y} \\log(p_Y(y))p_{Y}(y) =\n",
    "$$\n",
    "$$\n",
    "=H(X)+H(Y)-H(X,Y) = I(X,Y)\n",
    "$$"
   ]
  },
  {
   "cell_type": "markdown",
   "metadata": {},
   "source": "### Какой смысл?..\n"
  },
  {
   "cell_type": "markdown",
   "metadata": {},
   "source": [
    "Taking into account everything we said about $H(X|Y)$ and the fact that $I(X,Y)=H(X)-H(X|Y)$, we can assume, that $I(X, Y)$ is common information, shared between $X$ and $Y$.\n",
    "\n",
    "We can interpret it as the number of bits by which we can reduce the length of $X$ or the decrease of uncertainty of $X$, if we already know $Y$."
   ]
  },
  {
   "cell_type": "markdown",
   "metadata": {},
   "source": [
    "## Максимальная энтропия\n",
    "\n",
    "### Экспоненциальное распределение\n",
    "\n",
    "Вычислим энтропию для экспоненциального распределения $Exp(\\lambda)$ и распределения Лапласа $Laplace(0,\\lambda)$, имеющее плотность $\\frac{\\lambda}{2} e^{-\\lambda \\vert x\\vert }$."
   ]
  },
  {
   "cell_type": "markdown",
   "metadata": {},
   "source": [
    "Let us start from $X\\sim\\text{Exp}(\\lambda)$:\n",
    "$$\n",
    "H(X) = -\\int_0^\\infty \\lambda e^{-\\lambda x} \\ln\\left(\\lambda e^{-\\lambda x}\\right)dx = \n",
    "-\\int_0^\\infty \\lambda e^{-\\lambda x} \\left(\\ln\\lambda -\\lambda x\\right)dx = \n",
    "\\int_0^\\infty \\lambda^2 x e^{-\\lambda x}dx -\\int_0^\\infty \\lambda e^{-\\lambda x} \\ln\\lambda dx =\n",
    "1 - \\ln\\lambda\n",
    "$$\n",
    "$Y\\sim\\text{Laplace}(0, \\lambda)$:\n",
    "$$\n",
    "H(Y) = -\\int_{-\\infty}^\\infty \\frac{\\lambda}{2} e^{-\\lambda |x|} \\ln\\left(\\frac{\\lambda}{2} e^{-\\lambda |x|}\\right)dx = \n",
    "-\\int_{0}^\\infty \\lambda e^{-\\lambda x} \\ln\\left(\\frac{\\lambda}{2} e^{-\\lambda x}\\right)dx = \n",
    "-\\int_{0}^\\infty \\lambda e^{-\\lambda x} \\left(\\ln\\frac{\\lambda}{2} -\\lambda x\\right)dx = 1 - \\ln\\frac{\\lambda}{2}\n",
    "$$"
   ]
  },
  {
   "cell_type": "markdown",
   "metadata": {},
   "source": [
    "\n",
    "Докажем, что Экспоненциальное распределение $Exp(\\lambda)$ имеет максимальную энтропию среди всех абсолютно непрерывных вероятностных распределений с фиксированным средним и имеющих ненулевую плотность в области $x\\geq 0$."
   ]
  },
  {
   "cell_type": "markdown",
   "metadata": {},
   "source": [
    "To prove this, we use the Lagrange multiplier method with density normalization $\\int_{0}^{\\infty} f(x) \\, dx = 1$ \n",
    "and fixed expectation $\\int_{0}^{\\infty} x f(x) \\, dx = \\mu$\n",
    "\n",
    "Let's write the functional using the Lagrange multipliers $ \\lambda_0 $ and $ \\lambda_1 $:\n",
    "\n",
    "$$\n",
    "J(f) = -\\int_{0}^{\\infty} f(x) \\ln f(x) \\, dx - \\lambda_0 \\left( \\int_{0}^{\\infty} f(x) \\, dx - 1 \\right) - \\lambda_1 \\left( \\int_{0}^{\\infty} x f(x) \\, dx - \\mu \\right)\n",
    "$$\n",
    "\n",
    "Consider a small perturbation of the density $ f(x) \\rightarrow f(x) + \\delta f(x) $. The change in the $ J(f) $ is equal to:\n",
    "\n",
    "$$\n",
    "\\delta J = -\\int_{0}^{\\infty} (\\ln f(x) + 1) \\delta f(x) \\, dx - \\lambda_0 \\int_{0}^{\\infty} \\delta f(x) \\, dx - \\lambda_1 \\int_{0}^{\\infty} x \\delta f(x) \\, dx\n",
    "$$\n",
    "\n",
    "In extremum, the variation must be equal to zero for all $ \\delta f(x) $, so:\n",
    "\n",
    "$$\n",
    "\\frac{\\delta J}{\\delta f(x)} = -(\\ln f(x) + 1) - \\lambda_0 - \\lambda_1 x = 0\n",
    "$$\n",
    "$$\n",
    "\\ln f(x) = -1 - \\lambda_0 - \\lambda_1 x\n",
    "$$\n",
    "$$\n",
    "f(x) = e^{-1 - \\lambda_0 - \\lambda_1 x} = C e^{-\\lambda_1 x}\n",
    "$$\n",
    "\n",
    "where $ C = e^{-1 - \\lambda_0} $\n",
    "\n",
    "Using restrictions, we find the values of $ C $ and $ \\lambda_1 $.\n",
    "\n",
    "$$\n",
    "\\int_{0}^{\\infty} f(x) \\, dx = C \\int_{0}^{\\infty} e^{-\\lambda_1 x} \\, dx = \\frac{C}{\\lambda_1} = 1\n",
    "\\quad\\Longrightarrow\\quad\n",
    "C = \\lambda_1\n",
    "$$\n",
    "\n",
    "$$\n",
    "\\int_{0}^{\\infty} x f(x) \\, dx = C \\int_{0}^{\\infty} x e^{-\\lambda_1 x} \\, dx = \\frac{C}{\\lambda_1^2} = \\mu\n",
    "$$\n",
    "\n",
    "$$\n",
    "\\frac{\\lambda_1}{\\lambda_1^2} = \\mu \\quad \\implies \\quad \\frac{1}{\\lambda_1} = \\mu\n",
    "\\quad\\implies\\quad\n",
    "\\lambda_1 = \\frac{1}{\\mu}\n",
    "$$\n",
    "\n",
    "So density looks like:\n",
    "\n",
    "$$\n",
    "f(x) = \\frac{1}{\\mu} e^{- \\frac{x}{\\mu}}\n",
    "$$\n",
    "\n",
    "And this is exactly the density of an exponential distribution with $ \\lambda = \\frac{1}{\\mu} $:\n",
    "\n",
    "$$\n",
    "f(x) = \\lambda e^{- \\lambda x}, \\quad x \\geq 0\n",
    "$$"
   ]
  },
  {
   "cell_type": "markdown",
   "metadata": {},
   "source": [
    "## Строим свой код, основанный на частотах (3 балла)\n",
    "\n",
    "Представим себе для примера достаточно большую книгу (например, Войну и Мир Льва Николаевича Толстого). Для того, чтобы записывать буквы в кодировке UTF-8 требуется от 2 до 4 байт (каждый 8бит). Но книга -- это не просто какой-то iid равновероятный поток символов, а структурированный текст, структуру которого можно по-разному использовать. К примеру, мы можем задуматься над тем, чтобы сжать её, используя информацию о том, какие символы встречаются чаще: ведь более частые можно кодировать более короткими кодовыми словами, а более редкие -- более длинными.\n",
    "\n",
    "В этом идея [кода Хаффмана](https://compression.ru/download/articles/huff/huffman_1952_minimum-redundancy-codes.pdf), который мы попробуем поисследовать в самой простой наивной имплементации."
   ]
  },
  {
   "cell_type": "markdown",
   "metadata": {},
   "source": [
    "### Вычисляем языковую статистику\n",
    "\n",
    "Возьмём для примера текст вики-страницы [МО1](http://wiki.cs.hse.ru/%D0%9C%D0%B0%D1%88%D0%B8%D0%BD%D0%BD%D0%BE%D0%B5_%D0%BE%D0%B1%D1%83%D1%87%D0%B5%D0%BD%D0%B8%D0%B5_1)"
   ]
  },
  {
   "cell_type": "code",
   "metadata": {
    "ExecuteTime": {
     "end_time": "2024-10-22T16:11:42.671912Z",
     "start_time": "2024-10-22T16:11:42.663586Z"
    }
   },
   "source": [
    "with open(\"moText.txt\", \"r\", encoding=\"utf-8\") as f:\n",
    "    MOText = \"\\n\".join(f.readlines())\n",
    "\n",
    "print(MOText[:180])"
   ],
   "outputs": [
    {
     "name": "stdout",
     "output_type": "stream",
     "text": [
      "== О курсе ==\n",
      "\n",
      "\n",
      "\n",
      "[[Файл:ML_surfaces.png|280px|borderless|left]]\n",
      "\n",
      "\n",
      "\n",
      "Курс читается для студентов 3-го курса [https://cs.hse.ru/ami ПМИ ФКН ВШЭ] в 1-2 модулях.\n",
      "\n",
      "\n",
      "\n",
      "Проводится с 2016 го\n"
     ]
    }
   ],
   "execution_count": 7
  },
  {
   "cell_type": "markdown",
   "metadata": {},
   "source": [
    "Это не сильно большой, но не очень маленький текст."
   ]
  },
  {
   "cell_type": "code",
   "metadata": {
    "ExecuteTime": {
     "end_time": "2024-10-22T16:11:42.710815Z",
     "start_time": "2024-10-22T16:11:42.705477Z"
    }
   },
   "source": [
    "print(len(MOText))"
   ],
   "outputs": [
    {
     "name": "stdout",
     "output_type": "stream",
     "text": [
      "10001\n"
     ]
    }
   ],
   "execution_count": 8
  },
  {
   "cell_type": "markdown",
   "metadata": {},
   "source": "Вычислим частоту каждого символа, сохранив их в упорядоченный словарь (OrderedDict, пригодится для сортировок)  вида {<символ>: <частота>}."
  },
  {
   "cell_type": "code",
   "metadata": {
    "ExecuteTime": {
     "end_time": "2024-10-22T16:26:33.254742Z",
     "start_time": "2024-10-22T16:26:33.243993Z"
    }
   },
   "source": [
    "symFreqs = OrderedDict()\n",
    "\n",
    "for char in MOText:\n",
    "    if char in symFreqs:\n",
    "        symFreqs[char] += 1\n",
    "    else:\n",
    "        symFreqs[char] = 1"
   ],
   "outputs": [],
   "execution_count": 18
  },
  {
   "cell_type": "code",
   "metadata": {
    "ExecuteTime": {
     "end_time": "2024-10-22T16:26:33.952033Z",
     "start_time": "2024-10-22T16:26:33.943678Z"
    }
   },
   "source": [
    "for key, val in symFreqs.items():\n",
    "    print(f\"{key}: {val}\")\n",
    "print(f\"In total {len(symFreqs)} unique symbols, max freq= {max([val for val in symFreqs.values()])}\")"
   ],
   "outputs": [
    {
     "name": "stdout",
     "output_type": "stream",
     "text": [
      "=: 89\n",
      " : 912\n",
      "О: 13\n",
      "к: 134\n",
      "у: 99\n",
      "р: 185\n",
      "с: 180\n",
      "е: 389\n",
      "\n",
      ": 525\n",
      "[: 81\n",
      "Ф: 6\n",
      "а: 378\n",
      "й: 63\n",
      "л: 159\n",
      ":: 96\n",
      "M: 27\n",
      "L: 13\n",
      "_: 52\n",
      "s: 197\n",
      "u: 59\n",
      "r: 125\n",
      "f: 24\n",
      "a: 145\n",
      "c: 67\n",
      "e: 217\n",
      ".: 163\n",
      "p: 114\n",
      "n: 105\n",
      "g: 44\n",
      "|: 185\n",
      "2: 140\n",
      "8: 9\n",
      "0: 77\n",
      "x: 13\n",
      "b: 30\n",
      "o: 140\n",
      "d: 46\n",
      "l: 87\n",
      "t: 305\n",
      "]: 81\n",
      "К: 41\n",
      "ч: 89\n",
      "и: 343\n",
      "т: 175\n",
      "я: 70\n",
      "д: 143\n",
      "н: 350\n",
      "о: 369\n",
      "в: 155\n",
      "3: 16\n",
      "-: 71\n",
      "г: 54\n",
      "h: 147\n",
      "/: 281\n",
      "m: 125\n",
      "i: 134\n",
      "П: 57\n",
      "М: 53\n",
      "И: 38\n",
      "Н: 15\n",
      "В: 26\n",
      "Ш: 6\n",
      "Э: 12\n",
      "1: 64\n",
      "м: 106\n",
      "х: 18\n",
      "6: 15\n",
      "': 24\n",
      "Л: 4\n",
      "w: 43\n",
      "k: 48\n",
      "v: 30\n",
      "С: 32\n",
      "Е: 6\n",
      "А: 38\n",
      "з: 59\n",
      "ы: 70\n",
      "4: 14\n",
      "5: 16\n",
      "п: 85\n",
      "Р: 17\n",
      "G: 9\n",
      "H: 11\n",
      "y: 35\n",
      "S: 13\n",
      "X: 5\n",
      "7: 13\n",
      "F: 10\n",
      "Q: 2\n",
      "U: 7\n",
      "q: 7\n",
      "P: 20\n",
      "A: 12\n",
      "ц: 29\n",
      "э: 7\n",
      "?: 5\n",
      "O: 3\n",
      "B: 5\n",
      "E: 8\n",
      "R: 12\n",
      "C: 16\n",
      "9: 16\n",
      "&: 1\n",
      "z: 7\n",
      "T: 17\n",
      "D: 9\n",
      "W: 9\n",
      "V: 8\n",
      "J: 7\n",
      "ш: 35\n",
      "(: 13\n",
      "ю: 16\n",
      ",: 33\n",
      "б: 58\n",
      "): 13\n",
      "+: 18\n",
      "<: 2\n",
      ">: 1\n",
      "@: 3\n",
      "ъ: 1\n",
      "Ч: 1\n",
      "ж: 19\n",
      "Z: 10\n",
      "щ: 8\n",
      "ё: 5\n",
      "Т: 9\n",
      "I: 7\n",
      "N: 15\n",
      "ь: 43\n",
      "ф: 12\n",
      "{: 2\n",
      "\": 4\n",
      "!: 11\n",
      "Г: 2\n",
      "Б: 29\n",
      "Y: 5\n",
      "Д: 32\n",
      "K: 6\n",
      "j: 1\n",
      "У: 5\n",
      "Я: 3\n",
      "}: 2\n",
      "З: 11\n",
      "Ю: 1\n",
      "*: 21\n",
      "—: 4\n",
      "Ж: 1\n",
      "%: 3\n",
      "In total 148 unique symbols, max freq= 912\n"
     ]
    }
   ],
   "execution_count": 19
  },
  {
   "cell_type": "markdown",
   "metadata": {},
   "source": [
    "### Строим Кодер и Декодер Хаффмана"
   ]
  },
  {
   "cell_type": "markdown",
   "metadata": {},
   "source": [
    "Это хорошее упражнение для ценителей алгоритмов, но давайте сократим себе время и попробуем адаптировать одну из [доступных реализаций](https://www.geeksforgeeks.org/huffman-coding-in-python/) под наш сценарий, обернув в привычную классовую структуру и сохранив максимальную представленность самого алгоритма."
   ]
  },
  {
   "cell_type": "code",
   "metadata": {
    "ExecuteTime": {
     "end_time": "2024-10-22T16:44:45.944796Z",
     "start_time": "2024-10-22T16:44:45.935252Z"
    }
   },
   "source": [
    "#taken from https://www.geeksforgeeks.org/huffman-coding-in-python/\n",
    "class Node:\n",
    "    def __init__(self, symbol=None, frequency=None):\n",
    "        #print(\"CREATING\", symbol, frequency)\n",
    "        self.symbol = symbol\n",
    "        self.frequency = frequency\n",
    "        self.left = None\n",
    "        self.right = None\n",
    "\n",
    "    def __lt__(self, other):\n",
    "        return self.frequency < other.frequency\n",
    "\n",
    "\n",
    "def build_huffman_tree(chars, freq):\n",
    "    # Create a priority queue of nodes\n",
    "    priority_queue = [Node(char, f) for char, f in zip(chars, freq)]\n",
    "    heapq.heapify(priority_queue)\n",
    "\n",
    "    # Build the Huffman tree\n",
    "    while len(priority_queue) > 1:\n",
    "        left_child = heapq.heappop(priority_queue)\n",
    "        right_child = heapq.heappop(priority_queue)\n",
    "        merged_node = Node(frequency=left_child.frequency + right_child.frequency)\n",
    "        merged_node.left = left_child\n",
    "        merged_node.right = right_child\n",
    "        heapq.heappush(priority_queue, merged_node)\n",
    "\n",
    "    return priority_queue[0]\n",
    "\n",
    "\n",
    "def generate_huffman_codes(node, code=\"\", huffman_codes={}):\n",
    "    if node is not None:\n",
    "        if node.symbol is not None:\n",
    "            huffman_codes[node.symbol] = code\n",
    "        else:\n",
    "            generate_huffman_codes(node.left, code + \"0\", huffman_codes)\n",
    "            generate_huffman_codes(node.right, code + \"1\", huffman_codes)\n",
    "\n",
    "    return huffman_codes\n",
    "\n",
    "\n",
    "def runTest():\n",
    "    # Given example (try it to test)\n",
    "    chars = ['a', 'b', 'c', 'd', 'e', 'f']\n",
    "    freq = [4, 7, 15, 17, 22, 42]\n",
    "\n",
    "    # Build the Huffman tree\n",
    "    root = build_huffman_tree(chars, freq)\n",
    "\n",
    "    # Generate Huffman codes\n",
    "    huffman_codes = generate_huffman_codes(root)\n",
    "\n",
    "    # Print Huffman codes\n",
    "    for char, code in huffman_codes.items():\n",
    "        print(f\"Character: {char}, Code: {code}\")\n",
    "\n",
    "\n",
    "runTest()"
   ],
   "outputs": [
    {
     "name": "stdout",
     "output_type": "stream",
     "text": [
      "Character: f, Code: 0\n",
      "Character: a, Code: 1000\n",
      "Character: b, Code: 1001\n",
      "Character: c, Code: 101\n",
      "Character: d, Code: 110\n",
      "Character: e, Code: 111\n"
     ]
    }
   ],
   "execution_count": 31
  },
  {
   "cell_type": "markdown",
   "metadata": {},
   "source": [
    "Надеемся, что этот код заработал.... Теперь напишем кодер, используя эту технологию."
   ]
  },
  {
   "cell_type": "code",
   "metadata": {
    "ExecuteTime": {
     "end_time": "2024-10-22T17:45:46.916351Z",
     "start_time": "2024-10-22T17:45:46.905142Z"
    }
   },
   "source": [
    "class HuffmanCoderDecoder:\n",
    "\n",
    "    def __init__(self, symbolProbaTable):\n",
    "        \"\"\"_summary_\n",
    "\n",
    "        Args:\n",
    "            symbolProbaTable (dict): a dict with symbol(keys) and probabilities (val)\n",
    "        \"\"\"\n",
    "        self.symbols = list(symbolProbaTable.keys())\n",
    "        self.probas = list(symbolProbaTable.values())\n",
    "        self.symbolProbaTable = symbolProbaTable\n",
    "        self.root = None\n",
    "        self.encoderTable = {}\n",
    "        self.decoderTable = {}\n",
    "        self.fit()\n",
    "\n",
    "    def fit(self):\n",
    "        \"\"\"\n",
    "        Sets up encoder and decoder tables\n",
    "        \"\"\"\n",
    "        self.root = self.build_huffman_tree(self.symbols, self.probas)\n",
    "        \n",
    "        self.encoderTable = self.generate_huffman_codes(self.root)\n",
    "        self.decoderTable = {code: char for char, code in self.encoderTable.items()}\n",
    "    \n",
    "    def build_huffman_tree(self, chars, freq):\n",
    "        priority_queue = [Node(char, f) for char, f in zip(chars, freq)]\n",
    "        heapq.heapify(priority_queue)\n",
    "\n",
    "        while len(priority_queue) > 1:\n",
    "            left_child = heapq.heappop(priority_queue)\n",
    "            right_child = heapq.heappop(priority_queue)\n",
    "            merged_node = Node(frequency=left_child.frequency + right_child.frequency)\n",
    "            merged_node.left = left_child\n",
    "            merged_node.right = right_child\n",
    "            heapq.heappush(priority_queue, merged_node)\n",
    "\n",
    "        return priority_queue[0]\n",
    "    \n",
    "    def generate_huffman_codes(self, node, code=\"\", huffman_codes=None):\n",
    "        if huffman_codes is None:\n",
    "            huffman_codes = {}\n",
    "        if node is not None:\n",
    "            if node.symbol is not None:\n",
    "                huffman_codes[node.symbol] = code\n",
    "            else:\n",
    "                self.generate_huffman_codes(node.left, code + \"0\", huffman_codes)\n",
    "                self.generate_huffman_codes(node.right, code + \"1\", huffman_codes)\n",
    "\n",
    "        return huffman_codes\n",
    "\n",
    "    def encode(self, text):\n",
    "        \"\"\"Encodes the text and returns encoded text\n",
    "\n",
    "        Args:\n",
    "            text (str): text to encode\n",
    "        Returns:\n",
    "            encodedText (str): encoded text\n",
    "        \"\"\"\n",
    "        return ''.join([self.encoderTable[c] for c in text])\n",
    "\n",
    "    def decode(self, text):\n",
    "        \"\"\"Decodes the encoded text and returns decoded text\n",
    "\n",
    "        Args:\n",
    "            text (str): text to decode\n",
    "        Returns:\n",
    "            decodedText (str): decoded text\n",
    "        \"\"\"\n",
    "        decoded_text = ''\n",
    "        current_code = ''\n",
    "\n",
    "        for bit in text:\n",
    "            current_code += bit\n",
    "            if current_code in self.decoderTable:\n",
    "                decoded_text += self.decoderTable[current_code]\n",
    "                current_code = ''\n",
    "\n",
    "        return decoded_text"
   ],
   "outputs": [],
   "execution_count": 73
  },
  {
   "cell_type": "code",
   "metadata": {
    "ExecuteTime": {
     "end_time": "2024-10-22T17:45:47.234068Z",
     "start_time": "2024-10-22T17:45:47.228901Z"
    }
   },
   "source": [
    "textSample = MOText[:200]\n",
    "\n",
    "#Create coder\n",
    "huff = HuffmanCoderDecoder(symFreqs)\n",
    "#Encode text\n",
    "encText = huff.encode(textSample)\n",
    "#decode text to check if it works\n",
    "decText = huff.decode(encText)"
   ],
   "outputs": [],
   "execution_count": 74
  },
  {
   "cell_type": "code",
   "metadata": {
    "ExecuteTime": {
     "end_time": "2024-10-22T17:45:47.460538Z",
     "start_time": "2024-10-22T17:45:47.457057Z"
    }
   },
   "source": [
    "print(encText)"
   ],
   "outputs": [
    {
     "name": "stdout",
     "output_type": "stream",
     "text": [
      "1011100101110000011110000100000101001101111110011101111111000001011100101110001000100010001001001001100100111011010000110100011000100011110111011110001111111010001110110111101000100000010101101101010111010101010111101111010100101111111011101111011011011001001011001101111010111111111111011101100111100100010010101101000101011011000111101001010101101011110111101011101011001010110101111011101101011000010011001001100010001000100010010011010110111111001110111100010111011010010110011010111001011001011110101111000011100100011010111100010111110110011011110111001110010101101100110001000100000011011100110110111110011100000001010011011111100111011111101000010010010111101000010000111111011101011011100110001100010101011101010010101111011101011110110010100101000100000110001110100101100111100011111011111110000111110100011011010000100110100010011000001111000001011011110110110111111001100000100010000001100101101100101100001111001110000111001101111100011010111101101110010010101000100010001001111101111001111000100010110000111001010010110010111101011110001011110000101100111111001100100100111100011111001110000111001101010010101000100010001001101100111101100111101100110011100110011100010100101100110001100111101110110110011110110011110110011\n"
     ]
    }
   ],
   "execution_count": 75
  },
  {
   "cell_type": "code",
   "metadata": {
    "ExecuteTime": {
     "end_time": "2024-10-22T17:45:47.646232Z",
     "start_time": "2024-10-22T17:45:47.641794Z"
    }
   },
   "source": [
    "print(decText)"
   ],
   "outputs": [
    {
     "name": "stdout",
     "output_type": "stream",
     "text": [
      "== О курсе ==\n",
      "\n",
      "\n",
      "\n",
      "[[Файл:ML_surfaces.png|280px|borderless|left]]\n",
      "\n",
      "\n",
      "\n",
      "Курс читается для студентов 3-го курса [https://cs.hse.ru/ami ПМИ ФКН ВШЭ] в 1-2 модулях.\n",
      "\n",
      "\n",
      "\n",
      "Проводится с 2016 года.\n",
      "\n",
      "\n",
      "\n",
      "'''Лектор:'''\n"
     ]
    }
   ],
   "execution_count": 76
  },
  {
   "cell_type": "code",
   "metadata": {
    "ExecuteTime": {
     "end_time": "2024-10-22T17:45:48.107720Z",
     "start_time": "2024-10-22T17:45:48.104569Z"
    }
   },
   "source": [
    "print(textSample)"
   ],
   "outputs": [
    {
     "name": "stdout",
     "output_type": "stream",
     "text": [
      "== О курсе ==\n",
      "\n",
      "\n",
      "\n",
      "[[Файл:ML_surfaces.png|280px|borderless|left]]\n",
      "\n",
      "\n",
      "\n",
      "Курс читается для студентов 3-го курса [https://cs.hse.ru/ami ПМИ ФКН ВШЭ] в 1-2 модулях.\n",
      "\n",
      "\n",
      "\n",
      "Проводится с 2016 года.\n",
      "\n",
      "\n",
      "\n",
      "'''Лектор:'''\n"
     ]
    }
   ],
   "execution_count": 77
  },
  {
   "cell_type": "markdown",
   "metadata": {},
   "source": "Вычислим, какое получилось сжатие"
  },
  {
   "cell_type": "code",
   "metadata": {
    "ExecuteTime": {
     "end_time": "2024-10-22T17:45:49.068667Z",
     "start_time": "2024-10-22T17:45:49.063781Z"
    }
   },
   "source": "print(\"Compression(%): \", len(textSample.encode('utf-8')) * 8 / len(encText) * 100)",
   "outputs": [
    {
     "name": "stdout",
     "output_type": "stream",
     "text": [
      "Compression(%):  180.43654001616815\n"
     ]
    }
   ],
   "execution_count": 78
  },
  {
   "cell_type": "markdown",
   "metadata": {},
   "source": [
    "### Исследуем, как хорошо себя ведёт код при смене текста\n",
    "\n",
    "Сравним написанный кодер на двух понравившихся текстах.\n",
    "\n",
    "1. Для чистоты эксперимента очистим оба текста от символов, которых нет в другом тексте\n",
    "2. Посчитаем таблицу частот для каждого из текстов\n",
    "3. Обучим кодер на тексте 1\n",
    "4. Обучим кодер на тексте 2\n",
    "5. Сопоставим длину (в битах): \n",
    "   1. Текст1, закодированный кодером 1\n",
    "   2. Текст2, закодированный кодером 1\n",
    "   3. Текст1, закодированный кодером 2\n",
    "   4. Текст2, закодированный кодером 2\n",
    "6. Посчитаем KL-дивергенцию и кроссэнтропию в обе стороны между частотами кодера1 и кодера2"
   ]
  },
  {
   "cell_type": "code",
   "metadata": {
    "ExecuteTime": {
     "end_time": "2024-10-22T17:45:50.452305Z",
     "start_time": "2024-10-22T17:45:50.445407Z"
    }
   },
   "source": [
    "def clean_text(text1, text2):\n",
    "    common_chars = set(text1).intersection(set(text2))\n",
    "    cleaned_text1 = ''.join([ch for ch in text1 if ch in common_chars])\n",
    "    cleaned_text2 = ''.join([ch for ch in text2 if ch in common_chars])\n",
    "    return cleaned_text1, cleaned_text2\n",
    "\n",
    "def calculate_frequencies(text):\n",
    "    return dict(Counter(text))\n",
    "\n",
    "def kl_divergence(p, q):\n",
    "    kl_div = 0.0\n",
    "    for key in p:\n",
    "        if p[key] > 0 and key in q and q[key] > 0:\n",
    "            kl_div += p[key] * log2(p[key] / q[key])\n",
    "    return kl_div\n",
    "\n",
    "def cross_entropy(p, q):\n",
    "    ce = 0.0\n",
    "    for key in p:\n",
    "        if p[key] > 0 and key in q and q[key] > 0:\n",
    "            ce += -p[key] * log2(q[key])\n",
    "    return ce\n",
    "\n",
    "def entropy(freqs):\n",
    "    return -sum(p * log2(p) for p in freqs.values() if p > 0)"
   ],
   "outputs": [],
   "execution_count": 79
  },
  {
   "cell_type": "code",
   "metadata": {
    "ExecuteTime": {
     "end_time": "2024-10-22T17:45:51.138444Z",
     "start_time": "2024-10-22T17:45:51.099376Z"
    }
   },
   "source": [
    "with open(\"text1.txt\", \"r\", encoding=\"utf-8\") as f:\n",
    "    text1 = \"\\n\".join(f.readlines())\n",
    "\n",
    "with open(\"text2.txt\", \"r\", encoding=\"utf-8\") as f:\n",
    "    text2 = \"\\n\".join(f.readlines())\n",
    "\n",
    "cleaned_text1, cleaned_text2 = clean_text(text1, text2)\n",
    "\n",
    "freqs_text1 = calculate_frequencies(cleaned_text1)\n",
    "freqs_text2 = calculate_frequencies(cleaned_text2)\n",
    "\n",
    "total_text1 = sum(freqs_text1.values())\n",
    "total_text2 = sum(freqs_text2.values())\n",
    "\n",
    "prob_text1 = {char: freq / total_text1 for char, freq in freqs_text1.items()}\n",
    "prob_text2 = {char: freq / total_text2 for char, freq in freqs_text2.items()}\n",
    "\n",
    "coder1 = HuffmanCoderDecoder(prob_text1)\n",
    "coder2 = HuffmanCoderDecoder(prob_text2)\n",
    "\n",
    "encoded_text1_coder1 = coder1.encode(cleaned_text1)\n",
    "encoded_text2_coder1 = coder1.encode(cleaned_text2)\n",
    "encoded_text1_coder2 = coder2.encode(cleaned_text1)\n",
    "encoded_text2_coder2 = coder2.encode(cleaned_text2)\n",
    "\n",
    "len_text1_coder1 = len(encoded_text1_coder1)\n",
    "len_text2_coder1 = len(encoded_text2_coder1)\n",
    "len_text1_coder2 = len(encoded_text1_coder2)\n",
    "len_text2_coder2 = len(encoded_text2_coder2)\n",
    "\n",
    "kl_text1_to_text2 = kl_divergence(prob_text1, prob_text2)\n",
    "kl_text2_to_text1 = kl_divergence(prob_text2, prob_text1)\n",
    "ce_text1_to_text2 = cross_entropy(prob_text1, prob_text2)\n",
    "ce_text2_to_text1 = cross_entropy(prob_text2, prob_text1)\n",
    "\n",
    "entropy_text1 = entropy(prob_text1)\n",
    "entropy_text2 = entropy(prob_text2)"
   ],
   "outputs": [],
   "execution_count": 80
  },
  {
   "cell_type": "code",
   "metadata": {
    "ExecuteTime": {
     "end_time": "2024-10-23T07:28:45.080171Z",
     "start_time": "2024-10-23T07:28:45.058160Z"
    }
   },
   "source": [
    "print(f\"KL(text1 | text2)={kl_text1_to_text2}\")\n",
    "print(f\"KL(text2 | text1)={kl_text2_to_text1}\")\n",
    "print(f\"CE(text1 | text2)={ce_text1_to_text2}\")\n",
    "print(f\"CE(text2 | text1)={ce_text2_to_text1}\")\n",
    "print(f\"H(text1)={entropy_text1}\")\n",
    "print(f\"H(text2)={entropy_text2}\")\n",
    "print(f\"Coding with text1: text1Len={len_text1_coder1}, text2Len={len_text2_coder1}\")\n",
    "print(f\"Coding with text2: text1Len={len_text1_coder2}, text2Len={len_text2_coder2}\")"
   ],
   "outputs": [
    {
     "name": "stdout",
     "output_type": "stream",
     "text": [
      "KL(text1 | text2)=0.09665596629883151\n",
      "KL(text2 | text1)=0.11034558969562645\n",
      "CE(text1 | text2)=5.609550892773256\n",
      "CE(text2 | text1)=5.645734076342534\n",
      "H(text1)=5.5128949264744165\n",
      "H(text2)=5.535388486646909\n",
      "Coding with text1: text1Len=163906, text2Len=150129\n",
      "Coding with text2: text1Len=167215, text2Len=146773\n"
     ]
    }
   ],
   "execution_count": 85
  },
  {
   "cell_type": "code",
   "metadata": {
    "ExecuteTime": {
     "end_time": "2024-10-22T17:47:35.306406Z",
     "start_time": "2024-10-22T17:47:34.248346Z"
    }
   },
   "source": [
    "labels = list(prob_text1.keys())\n",
    "\n",
    "freq1 = [prob_text1.get(char, 0) for char in labels]\n",
    "freq2 = [prob_text2.get(char, 0) for char in labels]\n",
    "\n",
    "x = np.arange(len(labels))\n",
    "\n",
    "fig, ax = plt.subplots(figsize=(14, 8))\n",
    "\n",
    "ax.bar(x - 0.2, freq1, width=0.4, label='Text 1')\n",
    "ax.bar(x + 0.2, freq2, width=0.4, label='Text 2')\n",
    "\n",
    "ax.set_xticks(x)\n",
    "ax.set_xticklabels(labels, fontsize=5)\n",
    "ax.set_xlabel('Characters', fontsize=12)\n",
    "ax.set_ylabel('Probabilities', fontsize=12)\n",
    "ax.legend(fontsize=12)\n",
    "\n",
    "ax.grid(True)\n",
    "\n",
    "plt.tight_layout()\n",
    "\n",
    "plt.show()\n"
   ],
   "outputs": [
    {
     "name": "stderr",
     "output_type": "stream",
     "text": [
      "/var/folders/01/9fgfj_155d7bjqsw7tkb47m80000gn/T/ipykernel_69365/565773754.py:21: UserWarning: Glyph 9 (\t) missing from font(s) DejaVu Sans.\n",
      "  plt.tight_layout()\n",
      "/var/folders/01/9fgfj_155d7bjqsw7tkb47m80000gn/T/ipykernel_69365/565773754.py:21: UserWarning: Glyph 20013 (\\N{CJK UNIFIED IDEOGRAPH-4E2D}) missing from font(s) DejaVu Sans.\n",
      "  plt.tight_layout()\n",
      "/var/folders/01/9fgfj_155d7bjqsw7tkb47m80000gn/T/ipykernel_69365/565773754.py:21: UserWarning: Glyph 25991 (\\N{CJK UNIFIED IDEOGRAPH-6587}) missing from font(s) DejaVu Sans.\n",
      "  plt.tight_layout()\n",
      "/Users/admin/opt/miniconda3/envs/HW2024-25/lib/python3.11/site-packages/IPython/core/pylabtools.py:170: UserWarning: Glyph 9 (\t) missing from font(s) DejaVu Sans.\n",
      "  fig.canvas.print_figure(bytes_io, **kw)\n",
      "/Users/admin/opt/miniconda3/envs/HW2024-25/lib/python3.11/site-packages/IPython/core/pylabtools.py:170: UserWarning: Glyph 20013 (\\N{CJK UNIFIED IDEOGRAPH-4E2D}) missing from font(s) DejaVu Sans.\n",
      "  fig.canvas.print_figure(bytes_io, **kw)\n",
      "/Users/admin/opt/miniconda3/envs/HW2024-25/lib/python3.11/site-packages/IPython/core/pylabtools.py:170: UserWarning: Glyph 25991 (\\N{CJK UNIFIED IDEOGRAPH-6587}) missing from font(s) DejaVu Sans.\n",
      "  fig.canvas.print_figure(bytes_io, **kw)\n"
     ]
    },
    {
     "data": {
      "text/plain": [
       "<Figure size 1400x800 with 1 Axes>"
      ],
      "image/png": "[encoded data removed]"
     },
     "metadata": {},
     "output_type": "display_data"
    }
   ],
   "execution_count": 84
  },
  {
   "cell_type": "markdown",
   "metadata": {},
   "source": "Since both texts are mathematical articles from Wikipedia, it is quite logical that they have similar frequency distributions and fairly low divergence. As expected, text coding was performed more efficiently using an encoder trained on the same text. Notably, encoding text using another was less efficient, but the code length increased by only two percent approximately"
  }
 ],
 "metadata": {
  "colab": {
   "collapsed_sections": [
    "ZGDzE6YO9zYe",
    "g4hbID4f_ZW7",
    "ZDNXyjtgAdnv",
    "75QeT2ShA1KU"
   ],
   "provenance": []
  },
  "kernelspec": {
   "display_name": "Python 3 (ipykernel)",
   "language": "python",
   "name": "python3"
  },
  "language_info": {
   "codemirror_mode": {
    "name": "ipython",
    "version": 3
   },
   "file_extension": ".py",
   "mimetype": "text/x-python",
   "name": "python",
   "nbconvert_exporter": "python",
   "pygments_lexer": "ipython3",
   "version": "3.10.14"
  }
 },
 "nbformat": 4,
 "nbformat_minor": 1
}
